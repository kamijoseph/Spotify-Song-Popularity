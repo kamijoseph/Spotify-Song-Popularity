{
 "cells": [
  {
   "cell_type": "markdown",
   "id": "aca71e39",
   "metadata": {},
   "source": [
    "# spotify songs popularity prediction models"
   ]
  },
  {
   "cell_type": "code",
   "execution_count": 18,
   "id": "762cb0a7",
   "metadata": {},
   "outputs": [],
   "source": [
    "import pandas as pd\n",
    "import numpy as np"
   ]
  },
  {
   "cell_type": "code",
   "execution_count": null,
   "id": "03f1301e",
   "metadata": {},
   "outputs": [],
   "source": [
    "data = pd.read_csv(\"../dataset/spotify.csv\")"
   ]
  }
 ],
 "metadata": {
  "kernelspec": {
   "display_name": "std-prog",
   "language": "python",
   "name": "python3"
  },
  "language_info": {
   "codemirror_mode": {
    "name": "ipython",
    "version": 3
   },
   "file_extension": ".py",
   "mimetype": "text/x-python",
   "name": "python",
   "nbconvert_exporter": "python",
   "pygments_lexer": "ipython3",
   "version": "3.13.5"
  }
 },
 "nbformat": 4,
 "nbformat_minor": 5
}
